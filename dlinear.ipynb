{
 "cells": [
  {
   "cell_type": "code",
   "execution_count": null,
   "metadata": {},
   "outputs": [],
   "source": [
    "import pandas as pd\n",
    "from darts.models import DLinearModel, RegressionModel\n",
    "from darts import TimeSeries\n",
    "import pickle\n",
    "\n",
    "\n",
    "inflation_df = pd.read_csv(\"Inflation.csv\", index_col=0, header = [0,1])\n",
    "CPI_df = pd.read_csv(\"CPI.csv\", index_col=0, header = [0,1])\n",
    "\n",
    "inflation_df.columns = inflation_df.columns.droplevel(1)\n",
    "\n",
    "inflation_df.index = pd.to_datetime(inflation_df.index.astype(str), format='%Y%m')\n",
    "\n",
    "inflation_df = inflation_df.iloc[2:]\n",
    "\n",
    "inflation_df_train = inflation_df[inflation_df.index < pd.Timestamp('2000-03-01')]\n",
    "inflation_df_test = inflation_df[inflation_df.index >= pd.Timestamp('2000-03-01')]\n",
    "\n",
    "inflation_series = TimeSeries.from_dataframe(inflation_df)\n",
    "\n",
    "country_names = inflation_df.columns[:-17]\n",
    "\n",
    "model = DLinearModel(\n",
    "\n",
    "    input_chunk_length=4,\n",
    "\n",
    "    output_chunk_length=1,\n",
    "\n",
    "    kernel_size=12,\n",
    "\n",
    "    batch_size = 20,\n",
    "\n",
    "    n_epochs=20,\n",
    "\n",
    "    pl_trainer_kwargs={\n",
    "                    \"accelerator\": \"gpu\",\n",
    "                    \"devices\": [0],\n",
    "                    \"enable_progress_bar\": False\n",
    "                      }\n",
    ")\n",
    "\n"
   ]
  },
  {
   "cell_type": "markdown",
   "metadata": {},
   "source": [
    "## All countries 1 by 1"
   ]
  },
  {
   "cell_type": "code",
   "execution_count": 5,
   "metadata": {},
   "outputs": [],
   "source": [
    "#forecasts_country = {}\n",
    "#for country_name in country_names:\n",
    "#  print(country_name)\n",
    "#  forecasts = model.historical_forecasts(\n",
    "#                                                  inflation_series[country_name],\n",
    "#                                                  past_covariates=inflation_series.drop_columns(country_name),\n",
    "#                                                  start=pd.Timestamp('2000-03-01'),  # Start forecasting from this date\n",
    "#                                                  forecast_horizon=1,  # Predict 1 step ahead at each iteration\n",
    "#                                                  stride=1,  # Move forward 1 step at a time\n",
    "#                                                  retrain=True,  # Retrain the model at each step\n",
    "#                                                  train_length=240,  # Fixed rolling window size train_size\n",
    "#                                                  verbose=True,\n",
    "#                                                  enable_optimization=False\n",
    "#                                                  )\n",
    "#  forecasts_country[country_name] = forecasts\n",
    "#\n",
    "#with open('forecast_dict.pkl', 'wb') as f:\n",
    "#    pickle.dump(forecasts, f)"
   ]
  },
  {
   "cell_type": "markdown",
   "metadata": {},
   "source": [
    "## All countries at once"
   ]
  },
  {
   "cell_type": "code",
   "execution_count": null,
   "metadata": {},
   "outputs": [],
   "source": [
    "all_forecasts = model.historical_forecasts(\n",
    "                                                inflation_series[list(country_names)],\n",
    "                                                past_covariates=inflation_series.drop_columns(list(country_names)),\n",
    "                                                start=pd.Timestamp('2000-03-01'),  # Start forecasting from this date\n",
    "                                                forecast_horizon=1,  # Predict 1 step ahead at each iteration\n",
    "                                                stride=1,  # Move forward 1 step at a time\n",
    "                                                retrain=True,  # Retrain the model at each step\n",
    "                                                train_length=240,  # Fixed rolling window size train_size\n",
    "                                                verbose=True,\n",
    "                                                enable_optimization=False)\n",
    "\n",
    "with open('all_forecast.pkl', 'wb') as f:\n",
    "    pickle.dump(all_forecasts, f)"
   ]
  },
  {
   "cell_type": "code",
   "execution_count": 8,
   "metadata": {},
   "outputs": [],
   "source": [
    "import pandas as pd\n",
    "\n",
    "all_forecasts = pd.read_pickle(r'all_forecast.pkl')"
   ]
  },
  {
   "cell_type": "code",
   "execution_count": 9,
   "metadata": {},
   "outputs": [
    {
     "data": {
      "text/plain": [
       "0.829759792161182"
      ]
     },
     "execution_count": 9,
     "metadata": {},
     "output_type": "execute_result"
    }
   ],
   "source": [
    "from darts.metrics.metrics import rmse, mae\n",
    "import numpy as np\n",
    "\n",
    "np.mean([rmse(inflation_series.drop_before(pd.Timestamp(\"2000-02-01\"))[country_name], all_forecasts[country_name]) for country_name in country_names])\n"
   ]
  },
  {
   "cell_type": "code",
   "execution_count": 27,
   "metadata": {},
   "outputs": [
    {
     "data": {
      "text/plain": [
       "0.5727243126195439"
      ]
     },
     "execution_count": 27,
     "metadata": {},
     "output_type": "execute_result"
    }
   ],
   "source": [
    "np.mean([mae(inflation_series.drop_before(pd.Timestamp(\"2000-02-01\"))[country_name], all_forecasts[country_name]) for country_name in country_names])"
   ]
  },
  {
   "cell_type": "code",
   "execution_count": null,
   "metadata": {},
   "outputs": [],
   "source": []
  }
 ],
 "metadata": {
  "kernelspec": {
   "display_name": "master_thesis",
   "language": "python",
   "name": "python3"
  },
  "language_info": {
   "codemirror_mode": {
    "name": "ipython",
    "version": 3
   },
   "file_extension": ".py",
   "mimetype": "text/x-python",
   "name": "python",
   "nbconvert_exporter": "python",
   "pygments_lexer": "ipython3",
   "version": "3.10.16"
  }
 },
 "nbformat": 4,
 "nbformat_minor": 2
}
